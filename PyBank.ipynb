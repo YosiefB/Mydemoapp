{
 "cells": [
  {
   "cell_type": "code",
   "execution_count": 1,
   "metadata": {},
   "outputs": [],
   "source": [
    "# import your libraries\n",
    "import csv\n",
    "import pandas as pd\n",
    "import os "
   ]
  },
  {
   "cell_type": "code",
   "execution_count": 2,
   "metadata": {},
   "outputs": [],
   "source": [
    "\n",
    "csv_path = \"budget_data.csv\"\n",
    "file = pd.read_csv(csv_path)\n"
   ]
  },
  {
   "cell_type": "code",
   "execution_count": 3,
   "metadata": {},
   "outputs": [
    {
     "name": "stdout",
     "output_type": "stream",
     "text": [
      "Financial Analysis\n",
      "----------------------------\n",
      "Total Months: 86\n",
      "Total: $38382578\n",
      "Average Change: $-2288.2\n",
      "Greatest Increase in Profits: Feb-2012 ($1926159)\n",
      "Greatest Decrease in Profits: Sep-2013 ($-2196167)\n"
     ]
    }
   ],
   "source": [
    "\n",
    "# find the file and call it 'file'\n",
    "\n",
    "# An alternate method:\n",
    "# csvpath = os.path.join('budget_data.csv')\n",
    "# with open(csvpath, 'r', newline='') as csvfile:\n",
    "#     file = csv.reader(csvfile, delimiter=',')\n",
    "\n",
    "\n",
    "\n",
    "# fix the mislabled column \n",
    "file = file.rename(columns={\"Revenue\":\"Profit/Losses\"})\n",
    "\n",
    "\n",
    "\n",
    "# Create a variable equal to the number of months in the file\n",
    "Months = file['Date'].count()\n",
    "\n",
    "\n",
    "\n",
    "# The total net amount of \"Profit/Losses\" over the entire period\n",
    "Sum = file['Profit/Losses'].sum()\n",
    "\n",
    "\n",
    "\n",
    "Profits = file['Profit/Losses'] # create a column/array to hold the new 'change in profits' data \n",
    "PrevProf = Profits[0] # the profits of the previous month \n",
    "ChangesInProfits = [] # the new Array \n",
    "\n",
    "# add the change to the new array\n",
    "# and update the previous month's profit \n",
    "for row in Profits: \n",
    "    ChangesInProfits.append(row - PrevProf) \n",
    "    PrevProf = row \n",
    "\n",
    "\n",
    "\n",
    "# add this new \"Change in Profit/Loss\" column to the file\n",
    "file[\"Change in Profit/Losses\"] = ChangesInProfits\n",
    "\n",
    "\n",
    "\n",
    "# The average change in \"Profit/Losses\" between months over the entire period\n",
    "\n",
    "# this one finds it using the array\n",
    "AverageChange = sum(ChangesInProfits) / len(ChangesInProfits)\n",
    "\n",
    "# This one finds it using the dataframe\n",
    "AverageChange2 = file['Change in Profit/Losses'].mean()\n",
    "\n",
    "\n",
    "\n",
    "# The greatest increase and decrease in profits over the entire period\n",
    "MaxIncrease = file['Change in Profit/Losses'].max()\n",
    "MinIncrease = file['Change in Profit/Losses'].min()\n",
    "# index the dataframe by the change to loc(ate) the date \n",
    "IndexedFile = file.set_index('Change in Profit/Losses')\n",
    "MaxDate = IndexedFile.loc[MaxIncrease, \"Date\"]\n",
    "MinDate = IndexedFile.loc[MinIncrease, \"Date\"]\n",
    "\n",
    "\n",
    "\n",
    "# Return the results \n",
    "print('Financial Analysis')\n",
    "print('----------------------------')\n",
    "print('Total Months: ' + str(Months))\n",
    "print('Total: $' + str(round(Sum, 2)))\n",
    "print('Average Change: $' + str(round(AverageChange2, 2)))\n",
    "print('Greatest Increase in Profits: ' + str(MaxDate) + ' ($' + str(MaxIncrease) + ')')\n",
    "print('Greatest Decrease in Profits: ' + str(MinDate) + ' ($' + str(MinIncrease) + ')')\n",
    "\n",
    "\n",
    "\n",
    "# Create a text file with the results\n",
    "#with open('Bank_Results.txt', 'w+', newline = \"\\n\") as w:\n",
    "# Create a text file with the results\n",
    "with open('Bank_Results.txt', 'w+', newline = \"\\n\") as w:\n",
    "    w.write(\"Financial Analysis\\n\")\n",
    "    w.write('----------------------------\\n')"
   ]
  }
 ],
 "metadata": {
  "kernelspec": {
   "display_name": "Python 3",
   "language": "python",
   "name": "python3"
  },
  "language_info": {
   "codemirror_mode": {
    "name": "ipython",
    "version": 3
   },
   "file_extension": ".py",
   "mimetype": "text/x-python",
   "name": "python",
   "nbconvert_exporter": "python",
   "pygments_lexer": "ipython3",
   "version": "3.7.3"
  }
 },
 "nbformat": 4,
 "nbformat_minor": 2
}
